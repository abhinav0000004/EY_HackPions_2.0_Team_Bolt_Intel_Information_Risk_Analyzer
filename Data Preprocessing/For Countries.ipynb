{
 "cells": [
  {
   "cell_type": "code",
   "execution_count": 1,
   "metadata": {},
   "outputs": [],
   "source": [
    "import numpy as np\n",
    "import pandas as pd\n"
   ]
  },
  {
   "cell_type": "code",
   "execution_count": 14,
   "metadata": {},
   "outputs": [],
   "source": [
    "df1=pd.read_excel(\"Locations and Headcount.xlsx\")\n",
    "df1.drop_duplicates(subset =\"LocationCity\",inplace=True)"
   ]
  },
  {
   "cell_type": "code",
   "execution_count": 15,
   "metadata": {},
   "outputs": [
    {
     "data": {
      "text/html": [
       "<div>\n",
       "<style scoped>\n",
       "    .dataframe tbody tr th:only-of-type {\n",
       "        vertical-align: middle;\n",
       "    }\n",
       "\n",
       "    .dataframe tbody tr th {\n",
       "        vertical-align: top;\n",
       "    }\n",
       "\n",
       "    .dataframe thead th {\n",
       "        text-align: right;\n",
       "    }\n",
       "</style>\n",
       "<table border=\"1\" class=\"dataframe\">\n",
       "  <thead>\n",
       "    <tr style=\"text-align: right;\">\n",
       "      <th></th>\n",
       "      <th>Area</th>\n",
       "      <th>Geo Region</th>\n",
       "      <th>Geo Country</th>\n",
       "      <th>LocationCity</th>\n",
       "      <th>Head Count</th>\n",
       "    </tr>\n",
       "  </thead>\n",
       "  <tbody>\n",
       "    <tr>\n",
       "      <th>0</th>\n",
       "      <td>Americas</td>\n",
       "      <td>BBC</td>\n",
       "      <td>Bahamas</td>\n",
       "      <td>Nassau</td>\n",
       "      <td>10</td>\n",
       "    </tr>\n",
       "    <tr>\n",
       "      <th>1</th>\n",
       "      <td>Americas</td>\n",
       "      <td>BBC</td>\n",
       "      <td>Bermuda</td>\n",
       "      <td>Hamilton</td>\n",
       "      <td>20</td>\n",
       "    </tr>\n",
       "    <tr>\n",
       "      <th>2</th>\n",
       "      <td>Americas</td>\n",
       "      <td>BBC</td>\n",
       "      <td>British Virgin Islands</td>\n",
       "      <td>Road Town</td>\n",
       "      <td>30</td>\n",
       "    </tr>\n",
       "    <tr>\n",
       "      <th>3</th>\n",
       "      <td>Americas</td>\n",
       "      <td>BBC</td>\n",
       "      <td>Cayman Islands</td>\n",
       "      <td>George Town</td>\n",
       "      <td>40</td>\n",
       "    </tr>\n",
       "    <tr>\n",
       "      <th>4</th>\n",
       "      <td>Americas</td>\n",
       "      <td>Canada</td>\n",
       "      <td>Canada</td>\n",
       "      <td>Calgary</td>\n",
       "      <td>50</td>\n",
       "    </tr>\n",
       "    <tr>\n",
       "      <th>...</th>\n",
       "      <td>...</td>\n",
       "      <td>...</td>\n",
       "      <td>...</td>\n",
       "      <td>...</td>\n",
       "      <td>...</td>\n",
       "    </tr>\n",
       "    <tr>\n",
       "      <th>766</th>\n",
       "      <td>EMEIA</td>\n",
       "      <td>WEM</td>\n",
       "      <td>Netherlands</td>\n",
       "      <td>Utrecht</td>\n",
       "      <td>5670</td>\n",
       "    </tr>\n",
       "    <tr>\n",
       "      <th>767</th>\n",
       "      <td>EMEIA</td>\n",
       "      <td>WEM</td>\n",
       "      <td>Netherlands</td>\n",
       "      <td>Venlo</td>\n",
       "      <td>5680</td>\n",
       "    </tr>\n",
       "    <tr>\n",
       "      <th>768</th>\n",
       "      <td>EMEIA</td>\n",
       "      <td>WEM</td>\n",
       "      <td>Netherlands</td>\n",
       "      <td>Zwolle</td>\n",
       "      <td>5690</td>\n",
       "    </tr>\n",
       "    <tr>\n",
       "      <th>769</th>\n",
       "      <td>EMEIA</td>\n",
       "      <td>WEM</td>\n",
       "      <td>Senegal</td>\n",
       "      <td>Dakar</td>\n",
       "      <td>5700</td>\n",
       "    </tr>\n",
       "    <tr>\n",
       "      <th>771</th>\n",
       "      <td>EMEIA</td>\n",
       "      <td>WEM</td>\n",
       "      <td>Tunisia</td>\n",
       "      <td>Tunis</td>\n",
       "      <td>5720</td>\n",
       "    </tr>\n",
       "  </tbody>\n",
       "</table>\n",
       "<p>669 rows × 5 columns</p>\n",
       "</div>"
      ],
      "text/plain": [
       "         Area Geo Region             Geo Country LocationCity  Head Count\n",
       "0    Americas        BBC                 Bahamas       Nassau          10\n",
       "1    Americas        BBC                 Bermuda     Hamilton          20\n",
       "2    Americas        BBC  British Virgin Islands    Road Town          30\n",
       "3    Americas        BBC          Cayman Islands  George Town          40\n",
       "4    Americas     Canada                  Canada      Calgary          50\n",
       "..        ...        ...                     ...          ...         ...\n",
       "766     EMEIA        WEM             Netherlands      Utrecht        5670\n",
       "767     EMEIA        WEM             Netherlands        Venlo        5680\n",
       "768     EMEIA        WEM             Netherlands       Zwolle        5690\n",
       "769     EMEIA        WEM                 Senegal        Dakar        5700\n",
       "771     EMEIA        WEM                 Tunisia        Tunis        5720\n",
       "\n",
       "[669 rows x 5 columns]"
      ]
     },
     "execution_count": 15,
     "metadata": {},
     "output_type": "execute_result"
    }
   ],
   "source": [
    "df1"
   ]
  },
  {
   "cell_type": "code",
   "execution_count": 30,
   "metadata": {},
   "outputs": [],
   "source": [
    "cities=list(df1[\"LocationCity\"])\n",
    "countries=list(df1.drop_duplicates(subset =\"Geo Country\")[\"Geo Country\"])\n",
    "geoRegion=list(df1.drop_duplicates(subset =\"Geo Region\")[\"Geo Region\"])\n",
    "area=list(df1.drop_duplicates(subset =\"Area\")[\"Area\"])"
   ]
  },
  {
   "cell_type": "code",
   "execution_count": 34,
   "metadata": {},
   "outputs": [],
   "source": [
    "countByCountry=df1.groupby([\"Geo Country\"]).sum()"
   ]
  },
  {
   "cell_type": "code",
   "execution_count": null,
   "metadata": {},
   "outputs": [],
   "source": []
  }
 ],
 "metadata": {
  "kernelspec": {
   "display_name": "Python 3",
   "language": "python",
   "name": "python3"
  },
  "language_info": {
   "codemirror_mode": {
    "name": "ipython",
    "version": 3
   },
   "file_extension": ".py",
   "mimetype": "text/x-python",
   "name": "python",
   "nbconvert_exporter": "python",
   "pygments_lexer": "ipython3",
   "version": "3.7.1"
  }
 },
 "nbformat": 4,
 "nbformat_minor": 4
}
