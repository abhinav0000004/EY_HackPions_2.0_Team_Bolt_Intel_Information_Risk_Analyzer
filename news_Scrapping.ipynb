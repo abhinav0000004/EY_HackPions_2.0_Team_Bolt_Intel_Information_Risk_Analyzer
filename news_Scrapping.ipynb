{
 "cells": [
  {
   "cell_type": "code",
   "execution_count": null,
   "metadata": {},
   "outputs": [],
   "source": [
    "#https://pypi.org/project/news-fetch/  Check this site for library dependency and what libraries to install"
   ]
  },
  {
   "cell_type": "code",
   "execution_count": 1,
   "metadata": {},
   "outputs": [],
   "source": [
    "from newsfetch.google import google_search\n",
    "from newsfetch.news import newspaper\n",
    "import json\n",
    "import os"
   ]
  },
  {
   "cell_type": "code",
   "execution_count": null,
   "metadata": {},
   "outputs": [
    {
     "name": "stdout",
     "output_type": "stream",
     "text": [
      " No.of pages parsed : 26\r"
     ]
    },
    {
     "name": "stderr",
     "output_type": "stream",
     "text": [
      "connection/timeout error: https://timesofindia.indiatimes.com/topic/EY-India HTTPSConnectionPool(host='timesofindia.indiatimes.com', port=443): Read timed out. (read timeout=6)\n"
     ]
    }
   ],
   "source": [
    "google = google_search('EY', 'https://timesofindia.indiatimes.com/')\n",
    "count=0\n",
    "news_dict={}\n",
    "for i in google.urls:\n",
    "    if \"timesofindia.indiatimes.com\" in i:\n",
    "        count+=1\n",
    "        if count>12:\n",
    "            break\n",
    "        else:\n",
    "            news = newspaper(i)\n",
    "            news_dict[news.headline]=i\n",
    "try:\n",
    "    os.remove(\"newsArticle.json\")\n",
    "finally:\n",
    "    out_file = open(\"newsArticle.json\", \"w\") \n",
    "    json_object = json.dump(news_dict,out_file, indent = 4)  \n",
    "    print(json_object)\n",
    "    out_file.close()             "
   ]
  },
  {
   "cell_type": "code",
   "execution_count": null,
   "metadata": {},
   "outputs": [],
   "source": []
  }
 ],
 "metadata": {
  "kernelspec": {
   "display_name": "Python 3",
   "language": "python",
   "name": "python3"
  },
  "language_info": {
   "codemirror_mode": {
    "name": "ipython",
    "version": 3
   },
   "file_extension": ".py",
   "mimetype": "text/x-python",
   "name": "python",
   "nbconvert_exporter": "python",
   "pygments_lexer": "ipython3",
   "version": "3.7.1"
  }
 },
 "nbformat": 4,
 "nbformat_minor": 4
}
